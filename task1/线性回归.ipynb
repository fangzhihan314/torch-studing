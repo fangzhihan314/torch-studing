{
 "cells": [
  {
   "cell_type": "markdown",
   "metadata": {},
   "source": [
    "# 线性回归\n",
    "本章内容较为基础，记录一些学习到的函数表示：\n",
    "\n",
    "y.view():在pytorch中view函数的作用为重构张量的维度，相当于numpy中resize（）的功能\n",
    "\n",
    "view(-1),-1相当于不确定，这个操作相当于将数据变成行向量\n",
    "\n",
    "view(-1,a),-1相当于不确定，这个操作相当于将数据变成a列的数据，会先做a的除法，算出有多少行，将数据一一投入\n",
    "\n",
    "#### torch grad问题：\n",
    "\n",
    "1. 每次做完backward需要将grad清零\n",
    "2. 运用param.data可防止一些操作导致梯度累积"
   ]
  },
  {
   "cell_type": "code",
   "execution_count": null,
   "metadata": {
    "collapsed": true
   },
   "outputs": [],
   "source": []
  }
 ],
 "metadata": {
  "kernelspec": {
   "display_name": "Python 3",
   "language": "python",
   "name": "python3"
  },
  "language_info": {
   "codemirror_mode": {
    "name": "ipython",
    "version": 3
   },
   "file_extension": ".py",
   "mimetype": "text/x-python",
   "name": "python",
   "nbconvert_exporter": "python",
   "pygments_lexer": "ipython3",
   "version": "3.6.2"
  }
 },
 "nbformat": 4,
 "nbformat_minor": 2
}
